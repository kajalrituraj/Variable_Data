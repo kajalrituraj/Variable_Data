{
 "cells": [
  {
   "cell_type": "markdown",
   "id": "2bf9cab0",
   "metadata": {},
   "source": [
    "# Introduction & Features of Python\n",
    "Python is a General Purpose object-oriented programming language, which means that it can model real-world entities. It is also dynamically-typed because it carries out type-checking at runtime.\n",
    "\n",
    "### Python Features\n",
    "1. Easy </br>\n",
    "    Python is very easy to learn and understand; any beginner can learn Python easily. When writing code in Python, you need fewer lines of code compared to languages like Java.\n",
    "\n",
    "2. Interpreted </br>\n",
    "    It is interpreted(executed) line by line. This makes it easy to test and debug.\n",
    "\n",
    "3. Object-Oriented </br>\n",
    "    The Python programming language supports classes and objects and hence it is object-oriented.\n",
    "4. Free and Open Source </br>\n",
    "    The language and its source code are available to the public for free; there is no need to buy a costly license.\n",
    "5. Large Python Library </br>\n",
    "    Python provides you with a large standard library.\n",
    "\n",
    "### What can python do\n",
    "1. Python can be used on a server to create web applications.\n",
    "2. To Perform small scripting tasks alongside software to create workflows.\n",
    "3. Python can connect to database systems. It can also read and modify files.\n",
    "4. Python can be used to automate various tasks\n",
    "\n",
    "### Installation\n",
    "Check the download page of python for instalation and other configuration instruction https://www.python.org/downloads/\n",
    "\n",
    "### Variable and Data Types in Python\n",
    "A variable is a container for a value. It can be assigned a name, you can use it to refer to it later in the program.\n",
    "Based on the value assigned, the interpreter decides its data type. You can always store a different type in a variable.\n",
    "For example, if you store 10 in a variable, later, you can store 'Hello World'.\n",
    "\n",
    "### Rules for defining variables in python\n",
    "1. Python variables can only begin with a letter(A-Z/a-z) or an underscore(_).\n",
    "2. The rest of the identifier may contain letters(A-Z/a-z), underscores(_), and numbers(0-9).\n",
    "3. Python is case-sensitive, and so are Python identifiers. Name and name are two different identifiers.\n",
    "\n",
    "\n",
    "### Commonly used basic python functions\n",
    "\n",
    "1. print\n",
    "2. input\n",
    "3. type\n",
    "4. len\n",
    "5. sum"
   ]
  },
  {
   "cell_type": "code",
   "execution_count": 1,
   "id": "6668ef99",
   "metadata": {},
   "outputs": [
    {
     "name": "stdout",
     "output_type": "stream",
     "text": [
      "20\n"
     ]
    }
   ],
   "source": [
    "# Adding two numbers\n",
    "\"\"\"\n",
    "Multi line comment\n",
    "Line 1 \n",
    "Line 2\n",
    "\"\"\"\n",
    "\n",
    "num1 = 10\n",
    "num2 = 10\n",
    "\n",
    "print(num1 + num2)"
   ]
  },
  {
   "cell_type": "code",
   "execution_count": 2,
   "id": "2974066c",
   "metadata": {},
   "outputs": [
    {
     "name": "stdout",
     "output_type": "stream",
     "text": [
      "100\n"
     ]
    }
   ],
   "source": [
    "num1 = 10\n",
    "num2 = 10\n",
    "\n",
    "print(num1 * num2)"
   ]
  },
  {
   "cell_type": "code",
   "execution_count": 3,
   "id": "abe8f403",
   "metadata": {},
   "outputs": [
    {
     "name": "stdout",
     "output_type": "stream",
     "text": [
      "First Last\n"
     ]
    }
   ],
   "source": [
    "first_name = \"First\"\n",
    "last_name = \"Last\"\n",
    "\n",
    "print(first_name + \" \" + last_name)"
   ]
  },
  {
   "cell_type": "code",
   "execution_count": 4,
   "id": "a1819d3c",
   "metadata": {},
   "outputs": [
    {
     "name": "stdout",
     "output_type": "stream",
     "text": [
      "Your name is  and you are from https://github.com/kajalrituraj/Data_Variable_Assignment.git\n"
     ]
    }
   ],
   "source": [
    "name = input(\"What is your name\")\n",
    "city = input(\"Where do you live\")\n",
    "\n",
    "print(\"Your name is \" + name + \" and you are from \" + city)"
   ]
  },
  {
   "cell_type": "code",
   "execution_count": 5,
   "id": "b7718d06",
   "metadata": {},
   "outputs": [
    {
     "name": "stdout",
     "output_type": "stream",
     "text": [
      "Your name is  and you are from https://github.com/kajalrituraj/Data_Variable_Assignment.git\n"
     ]
    }
   ],
   "source": [
    "print(\"Your name is {} and you are from {}\".format(name, city))"
   ]
  },
  {
   "cell_type": "code",
   "execution_count": 6,
   "id": "b6c1a847",
   "metadata": {},
   "outputs": [
    {
     "data": {
      "text/plain": [
       "dict"
      ]
     },
     "execution_count": 6,
     "metadata": {},
     "output_type": "execute_result"
    }
   ],
   "source": [
    "int\n",
    "float\n",
    "bool\n",
    "list\n",
    "dict"
   ]
  },
  {
   "cell_type": "code",
   "execution_count": 7,
   "id": "d062bdee",
   "metadata": {},
   "outputs": [],
   "source": [
    "int_var = 10\n",
    "float_var = 10.1\n",
    "bool_var = True\n",
    "list_var = [1,2,3, \"Hello\", True]\n",
    "tuple_var = (1,2,3)\n",
    "dict_var = {\"naveen\": \"Naveen\", \"city\": \"Delhi\"}"
   ]
  },
  {
   "cell_type": "code",
   "execution_count": 8,
   "id": "3fa1e23f",
   "metadata": {},
   "outputs": [
    {
     "data": {
      "text/plain": [
       "dict"
      ]
     },
     "execution_count": 8,
     "metadata": {},
     "output_type": "execute_result"
    }
   ],
   "source": [
    "type(dict_var)"
   ]
  },
  {
   "cell_type": "code",
   "execution_count": 9,
   "id": "b49feb79",
   "metadata": {},
   "outputs": [
    {
     "data": {
      "text/plain": [
       "tuple"
      ]
     },
     "execution_count": 9,
     "metadata": {},
     "output_type": "execute_result"
    }
   ],
   "source": [
    "type(tuple_var)"
   ]
  },
  {
   "cell_type": "markdown",
   "id": "e436dd68",
   "metadata": {},
   "source": [
    "## Variables and Data Types\n"
   ]
  },
  {
   "cell_type": "markdown",
   "id": "bf40b4c5",
   "metadata": {},
   "source": [
    "**Q: Assign your name to the variable `name`.**"
   ]
  },
  {
   "cell_type": "code",
   "execution_count": 10,
   "id": "4ed8652c",
   "metadata": {},
   "outputs": [],
   "source": [
    "name = \"Kajal Rituraj\""
   ]
  },
  {
   "cell_type": "markdown",
   "id": "4b2966a6",
   "metadata": {},
   "source": [
    "**Q: Assign your age (real or fake) to the variable `age`.**"
   ]
  },
  {
   "cell_type": "code",
   "execution_count": 11,
   "id": "2381ace7",
   "metadata": {},
   "outputs": [],
   "source": [
    "age = 20"
   ]
  },
  {
   "cell_type": "markdown",
   "id": "4d3766c6",
   "metadata": {},
   "source": [
    "**Q: Assign a boolean value to the variable `has_android_phone`.**"
   ]
  },
  {
   "cell_type": "code",
   "execution_count": 12,
   "id": "c5ddc6f7",
   "metadata": {},
   "outputs": [],
   "source": [
    "has_android_phone = False"
   ]
  },
  {
   "cell_type": "markdown",
   "id": "9662d1de",
   "metadata": {},
   "source": [
    "**Q: Print a sentence with the help of the variables created above.**"
   ]
  },
  {
   "cell_type": "code",
   "execution_count": 13,
   "id": "b8af5644",
   "metadata": {},
   "outputs": [
    {
     "name": "stdout",
     "output_type": "stream",
     "text": [
      "my name is Kajal Rituraj i am 20 years old\n",
      "<class 'bool'>\n"
     ]
    }
   ],
   "source": [
    "print(\"my name is {} i am {} years old\".format(name,age))\n",
    "print(type(has_android_phone))"
   ]
  },
  {
   "cell_type": "markdown",
   "id": "bd112cbf",
   "metadata": {},
   "source": [
    "**Q: Create two variables, say a and b**\n",
    "</br>\n",
    "**Add the values of a and b and print the output**"
   ]
  },
  {
   "cell_type": "code",
   "execution_count": 14,
   "id": "8b8d80b5",
   "metadata": {},
   "outputs": [
    {
     "name": "stdout",
     "output_type": "stream",
     "text": [
      "The sum is: 99\n"
     ]
    }
   ],
   "source": [
    "a=34\n",
    "b=65\n",
    "print(\"The sum is:\",a+b)\n",
    "#addind comment"
   ]
  },
  {
   "cell_type": "markdown",
   "id": "280128c3",
   "metadata": {},
   "source": [
    "**Q: Create two variables, say a and b**\n",
    "</br>\n",
    "**Check if the values of those two values are equal**"
   ]
  },
  {
   "cell_type": "code",
   "execution_count": 15,
   "id": "deec8bbb",
   "metadata": {},
   "outputs": [
    {
     "name": "stdout",
     "output_type": "stream",
     "text": [
      "True\n"
     ]
    }
   ],
   "source": [
    "a=56\n",
    "b=56\n",
    "print(a==b)"
   ]
  },
  {
   "cell_type": "markdown",
   "id": "5f9fd542",
   "metadata": {},
   "source": [
    "<!-- **Q: Take an input from user**\n",
    "</br>\n",
    "**Store that input in a variable var1**\n",
    "</br>\n",
    "**Print the data type of the input provided by the user** -->"
   ]
  },
  {
   "cell_type": "code",
   "execution_count": 16,
   "id": "e4e6d1c7",
   "metadata": {},
   "outputs": [],
   "source": [
    "var1= (input(\"enter any input: \"))\n",
    "print(type(var1))"
   ]
  },
  {
   "cell_type": "code",
   "execution_count": null,
   "id": "86ab8007",
   "metadata": {},
   "outputs": [
    {
     "ename": "SyntaxError",
     "evalue": "invalid syntax (1929089538.py, line 1)",
     "output_type": "error",
     "traceback": [
      "\u001b[1;36m  Input \u001b[1;32mIn [21]\u001b[1;36m\u001b[0m\n\u001b[1;33m    **Q: Take an input from user**\u001b[0m\n\u001b[1;37m    ^\u001b[0m\n\u001b[1;31mSyntaxError\u001b[0m\u001b[1;31m:\u001b[0m invalid syntax\n"
     ]
    }
   ],
   "source": [
    "# **Q: Take an input from user**\n",
    "# </br>\n",
    "# **Store that input in a variable var1**\n",
    "# </br>\n",
    "# **Check if the input is integer if not then print warning**\n",
    "# </br>\n",
    "# **If the input is integer then print if the number is even or odd**"
   ]
  },
  {
   "cell_type": "code",
   "execution_count": null,
   "id": "23836d54",
   "metadata": {},
   "outputs": [
    {
     "name": "stdout",
     "output_type": "stream",
     "text": [
      "Enter Something: 998\n",
      "998 is an Even Number.\n"
     ]
    }
   ],
   "source": [
    "var1=input(\"Enter Something: \")\n",
    "if var1.isdigit():\n",
    "    var1 = int(var1)\n",
    "    if(var1 % 2 == 0):\n",
    "        print(\"{} is an Even Number.\".format(var1))\n",
    "    else:\n",
    "        print(\"{} is an Odd Number.\".format(var1))\n",
    "else:\n",
    "    print(\"Warning\")\n"
   ]
  },
  {
   "cell_type": "code",
   "execution_count": null,
   "id": "c46e7cc1",
   "metadata": {},
   "outputs": [],
   "source": []
  },
  {
   "cell_type": "code",
   "execution_count": null,
   "id": "874db227",
   "metadata": {},
   "outputs": [],
   "source": []
  }
 ],
 "metadata": {
  "kernelspec": {
   "display_name": "Python 3.10.5 64-bit",
   "language": "python",
   "name": "python3"
  },
  "language_info": {
   "codemirror_mode": {
    "name": "ipython",
    "version": 3
   },
   "file_extension": ".py",
   "mimetype": "text/x-python",
   "name": "python",
   "nbconvert_exporter": "python",
   "pygments_lexer": "ipython3",
   "version": "3.10.5"
  },
  "vscode": {
   "interpreter": {
    "hash": "6faaf6e5f38a95ef9a7203da6af6955d59f402a0c42940e864db346a141d0016"
   }
  }
 },
 "nbformat": 4,
 "nbformat_minor": 5
}
