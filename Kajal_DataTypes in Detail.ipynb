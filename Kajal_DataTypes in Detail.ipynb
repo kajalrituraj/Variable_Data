{
 "cells": [
  {
   "cell_type": "markdown",
   "id": "cdf488a5",
   "metadata": {},
   "source": [
    "### Strings and Character Data in Python\n",
    "\n",
    "String are objects that contain sequences of character data. Processing character data is integral to programming. Python provides a rich set of operators, functions, and methods for working with strings. In this module, we'll discuss the below topics.\n",
    "\n",
    "1. Using operators with strings\n",
    "2. Accessing and extracting portions of strings\n",
    "3. Use built-in Python functions with characters and strings\n",
    "4. Use methods to manipulate and modify string data\n",
    "\n",
    "#### String Manipulation\n",
    "1. String Operators\n",
    "2. Built-In String Functions\n",
    "    * Case Conversion (upper, lower, title, capitalize)\n",
    "    * Find and Replace (find, index) \n",
    "    * dir and __doc__\n",
    "3. String Indexing & Slicing\n",
    "    * name[1]\n",
    "\n",
    "### Working with python list\n",
    "List is Python’s most versatile, useful data types. You’ll find list in virtually every Python program. we'll cover the important characteristics of lists and we’ll learn how to define them and how to manipulate them.\n",
    "\n",
    "1. Lists Overview\n",
    "2. Indexing and Slicing\n",
    "3. Nesting\n",
    "4. List Methods\n",
    "    * Inserting item to a given position\n",
    "    * Appending value to a list\n",
    "    * Removing elements from a list\n",
    "    * Extending a list and merging with other list\n",
    "    * Counting instances of an elements in a list\n",
    "    * index - Finding index of something in the list\n",
    "    * Sorting a list\n",
    "    * Reversing a list\n",
    "    \n",
    "### Working with dictionary in python\n",
    "We’ll cover the basic characteristics of Python dictionaries and learn how to access and manage dictionary data. O\n",
    "1. Dictionaries and lists share the following characteristics:\n",
    "    * Both are mutable.\n",
    "    * Both are dynamic. They can grow and shrink as needed.\n",
    "    * Both can be nested. A list can contain another list. A dictionary can contain another dictionary. A dictionary can also contain a list, and vice versa.\n",
    "\n",
    "4. Dictionary Methods\n",
    "    * Get all keys from a dictionary - keys\n",
    "    * Get all values from a dictionary - values\n",
    "    * To Access data from a dictionary for a key - get\n",
    "    * Update a dictionary - update\n",
    "    * Deleting data from the dictionary\n",
    "    * Deleting all the key values from a dictionary - clear\n",
    "    \n",
    "### Conditional Statements in Python (if/elif/else)\n",
    "We’ll learn how to work with conditional (“if”) statements in Python. if-statements help us implement complex decision making in your programs.\n",
    "\n",
    "1. \"if\", \"else\" and \"elif\" Clauses\n",
    "2. One-Line \"if\" Statements\n",
    "3. Conditional Expressions\n",
    "4. The \"pass\" Statement"
   ]
  },
  {
   "cell_type": "code",
   "execution_count": 2,
   "id": "1226db47",
   "metadata": {},
   "outputs": [],
   "source": [
    "name = \"Naveen\""
   ]
  },
  {
   "cell_type": "code",
   "execution_count": 3,
   "id": "d610f5fe",
   "metadata": {},
   "outputs": [],
   "source": [
    "list1 = [1,2,3]"
   ]
  },
  {
   "cell_type": "code",
   "execution_count": 4,
   "id": "ea96b4df",
   "metadata": {},
   "outputs": [
    {
     "data": {
      "text/plain": [
       "[1, 2, 3]"
      ]
     },
     "execution_count": 4,
     "metadata": {},
     "output_type": "execute_result"
    }
   ],
   "source": [
    "list1"
   ]
  },
  {
   "cell_type": "code",
   "execution_count": 5,
   "id": "d29364d6",
   "metadata": {},
   "outputs": [],
   "source": [
    "list1.append(4)"
   ]
  },
  {
   "cell_type": "code",
   "execution_count": 6,
   "id": "93b0d733",
   "metadata": {},
   "outputs": [],
   "source": [
    "list2 = [4,5,6]"
   ]
  },
  {
   "cell_type": "code",
   "execution_count": 7,
   "id": "0395f205",
   "metadata": {},
   "outputs": [],
   "source": [
    "list1.extend(list2)"
   ]
  },
  {
   "cell_type": "code",
   "execution_count": 8,
   "id": "fa9d3f3e",
   "metadata": {},
   "outputs": [
    {
     "data": {
      "text/plain": [
       "[1, 2, 3, 4, 4, 5, 6]"
      ]
     },
     "execution_count": 8,
     "metadata": {},
     "output_type": "execute_result"
    }
   ],
   "source": [
    "list1"
   ]
  },
  {
   "cell_type": "code",
   "execution_count": 9,
   "id": "7a52d021",
   "metadata": {},
   "outputs": [],
   "source": [
    "dict_1 = {\"name\": \"Naveen\", \"city\": \"Delhi\"}"
   ]
  },
  {
   "cell_type": "code",
   "execution_count": 10,
   "id": "7e650f17",
   "metadata": {},
   "outputs": [
    {
     "data": {
      "text/plain": [
       "dict"
      ]
     },
     "execution_count": 10,
     "metadata": {},
     "output_type": "execute_result"
    }
   ],
   "source": [
    "type(dict_1)"
   ]
  },
  {
   "cell_type": "code",
   "execution_count": 11,
   "id": "7c0b7bf9",
   "metadata": {},
   "outputs": [
    {
     "data": {
      "text/plain": [
       "['__class__',\n",
       " '__class_getitem__',\n",
       " '__contains__',\n",
       " '__delattr__',\n",
       " '__delitem__',\n",
       " '__dir__',\n",
       " '__doc__',\n",
       " '__eq__',\n",
       " '__format__',\n",
       " '__ge__',\n",
       " '__getattribute__',\n",
       " '__getitem__',\n",
       " '__gt__',\n",
       " '__hash__',\n",
       " '__init__',\n",
       " '__init_subclass__',\n",
       " '__ior__',\n",
       " '__iter__',\n",
       " '__le__',\n",
       " '__len__',\n",
       " '__lt__',\n",
       " '__ne__',\n",
       " '__new__',\n",
       " '__or__',\n",
       " '__reduce__',\n",
       " '__reduce_ex__',\n",
       " '__repr__',\n",
       " '__reversed__',\n",
       " '__ror__',\n",
       " '__setattr__',\n",
       " '__setitem__',\n",
       " '__sizeof__',\n",
       " '__str__',\n",
       " '__subclasshook__',\n",
       " 'clear',\n",
       " 'copy',\n",
       " 'fromkeys',\n",
       " 'get',\n",
       " 'items',\n",
       " 'keys',\n",
       " 'pop',\n",
       " 'popitem',\n",
       " 'setdefault',\n",
       " 'update',\n",
       " 'values']"
      ]
     },
     "execution_count": 11,
     "metadata": {},
     "output_type": "execute_result"
    }
   ],
   "source": [
    "dir(dict_1)"
   ]
  },
  {
   "cell_type": "code",
   "execution_count": 12,
   "id": "40a7c56d",
   "metadata": {},
   "outputs": [
    {
     "data": {
      "text/plain": [
       "'Naveen'"
      ]
     },
     "execution_count": 12,
     "metadata": {},
     "output_type": "execute_result"
    }
   ],
   "source": [
    "dict_1.get(\"name\")"
   ]
  },
  {
   "cell_type": "code",
   "execution_count": 13,
   "id": "1c6a3dcf",
   "metadata": {},
   "outputs": [
    {
     "name": "stdout",
     "output_type": "stream",
     "text": [
      "{'name': 'Naveen', 'city': 'Delhi'}\n"
     ]
    }
   ],
   "source": [
    "print(dict_1)"
   ]
  },
  {
   "cell_type": "code",
   "execution_count": 14,
   "id": "88d524b1",
   "metadata": {},
   "outputs": [],
   "source": [
    "dict_1.update({\"city\": \"Noida\"})"
   ]
  },
  {
   "cell_type": "code",
   "execution_count": 15,
   "id": "4033930c",
   "metadata": {},
   "outputs": [
    {
     "name": "stdout",
     "output_type": "stream",
     "text": [
      "{'name': 'Naveen', 'city': 'Noida'}\n"
     ]
    }
   ],
   "source": [
    "print(dict_1)"
   ]
  },
  {
   "cell_type": "code",
   "execution_count": 16,
   "id": "23e9b629",
   "metadata": {},
   "outputs": [],
   "source": [
    "del dict_1['name']"
   ]
  },
  {
   "cell_type": "code",
   "execution_count": 17,
   "id": "02278e47",
   "metadata": {},
   "outputs": [
    {
     "name": "stdout",
     "output_type": "stream",
     "text": [
      "{'city': 'Noida'}\n"
     ]
    }
   ],
   "source": [
    "print(dict_1)"
   ]
  },
  {
   "cell_type": "code",
   "execution_count": 18,
   "id": "e47ad77e",
   "metadata": {},
   "outputs": [],
   "source": [
    "todo_list = [\n",
    "    \"complete python study\", \n",
    "    \"complete python test\",\n",
    "    \"get the certificate\"\n",
    "]"
   ]
  },
  {
   "cell_type": "code",
   "execution_count": 19,
   "id": "b7e68570",
   "metadata": {},
   "outputs": [],
   "source": [
    "todo_list = [\n",
    "    {\"task\": \"complete python study\", \"deadline\": \"2022-10-10\"},\n",
    "    {\"task\":\"complete python test\", \"deadline\": \"2022-10-10\"},\n",
    "    {\"task\":\"get the certificate\", \"deadline\": \"2022-10-10\"}\n",
    "]"
   ]
  },
  {
   "cell_type": "code",
   "execution_count": 20,
   "id": "c171274a",
   "metadata": {},
   "outputs": [
    {
     "name": "stdout",
     "output_type": "stream",
     "text": [
      "[{'task': 'complete python study', 'deadline': '2022-10-10'}, {'task': 'complete python test', 'deadline': '2022-10-10'}, {'task': 'get the certificate', 'deadline': '2022-10-10'}]\n"
     ]
    }
   ],
   "source": [
    "print(todo_list)"
   ]
  },
  {
   "cell_type": "code",
   "execution_count": 21,
   "id": "6c0bcd2f",
   "metadata": {},
   "outputs": [],
   "source": [
    "user = {\n",
    "    \"name\": \"Naveen\",\n",
    "    \"courses\": [\"python\", \"javascript\"]\n",
    "}"
   ]
  },
  {
   "cell_type": "code",
   "execution_count": 22,
   "id": "9d8bc290",
   "metadata": {},
   "outputs": [
    {
     "name": "stdout",
     "output_type": "stream",
     "text": [
      "{'name': 'Naveen', 'courses': ['python', 'javascript']}\n"
     ]
    }
   ],
   "source": [
    "print(user)"
   ]
  },
  {
   "cell_type": "code",
   "execution_count": 23,
   "id": "69c27f8a",
   "metadata": {},
   "outputs": [
    {
     "data": {
      "text/plain": [
       "dict_keys(['name', 'courses'])"
      ]
     },
     "execution_count": 23,
     "metadata": {},
     "output_type": "execute_result"
    }
   ],
   "source": [
    "user.keys()"
   ]
  },
  {
   "cell_type": "code",
   "execution_count": 24,
   "id": "31c91831",
   "metadata": {},
   "outputs": [
    {
     "data": {
      "text/plain": [
       "dict_values(['Naveen', ['python', 'javascript']])"
      ]
     },
     "execution_count": 24,
     "metadata": {},
     "output_type": "execute_result"
    }
   ],
   "source": [
    "user.values()"
   ]
  },
  {
   "cell_type": "code",
   "execution_count": 25,
   "id": "ecb376ce",
   "metadata": {},
   "outputs": [],
   "source": [
    "def hello():\n",
    "    \"\"\"\n",
    "    this function will print hello world\n",
    "    \"\"\"\n",
    "    return \"hello world\"\n",
    "\n",
    "\n",
    "function_list = [hello]"
   ]
  },
  {
   "cell_type": "code",
   "execution_count": 26,
   "id": "0c0069b7",
   "metadata": {},
   "outputs": [
    {
     "data": {
      "text/plain": [
       "[<function __main__.hello()>]"
      ]
     },
     "execution_count": 26,
     "metadata": {},
     "output_type": "execute_result"
    }
   ],
   "source": [
    "function_list"
   ]
  },
  {
   "cell_type": "code",
   "execution_count": 27,
   "id": "afff4f6d",
   "metadata": {},
   "outputs": [],
   "source": [
    "func_dict = {\n",
    "    \"function_name\": \"hello world\",\n",
    "    \"function\": hello\n",
    "}"
   ]
  },
  {
   "cell_type": "code",
   "execution_count": 28,
   "id": "6f57093f",
   "metadata": {},
   "outputs": [],
   "source": [
    "num1 = 10\n",
    "num2 = 20"
   ]
  },
  {
   "cell_type": "code",
   "execution_count": 29,
   "id": "4aa180fa",
   "metadata": {},
   "outputs": [
    {
     "name": "stdout",
     "output_type": "stream",
     "text": [
      "Not same\n"
     ]
    }
   ],
   "source": [
    "if num1 == num2:\n",
    "    print(\"Same\")\n",
    "    print(\"something else\")\n",
    "else:\n",
    "    print(\"Not same\")"
   ]
  },
  {
   "cell_type": "code",
   "execution_count": 30,
   "id": "a259f3d3",
   "metadata": {},
   "outputs": [],
   "source": [
    "res = \"Same\" if num1 == num2 else \"Not same\""
   ]
  },
  {
   "cell_type": "code",
   "execution_count": 31,
   "id": "837cd484",
   "metadata": {},
   "outputs": [
    {
     "name": "stdout",
     "output_type": "stream",
     "text": [
      "Not same\n"
     ]
    }
   ],
   "source": [
    "print(res)"
   ]
  },
  {
   "cell_type": "code",
   "execution_count": 32,
   "id": "00918647",
   "metadata": {},
   "outputs": [],
   "source": [
    "result = num1 >= num2"
   ]
  },
  {
   "cell_type": "code",
   "execution_count": 33,
   "id": "5f73b3c5",
   "metadata": {},
   "outputs": [],
   "source": [
    "name = \"naveen\""
   ]
  },
  {
   "cell_type": "markdown",
   "id": "6d25fc4c",
   "metadata": {},
   "source": [
    "**Q: Create a variable name assign your name to that variable**\n",
    "</br>\n",
    "**Check what is the type of the variable and what are the public method available on that variable**\n",
    "</br>\n",
    "**Practice all the methods and write a brief summary on each of them in your words**"
   ]
  },
  {
   "cell_type": "code",
   "execution_count": 2,
   "id": "2f76e00d",
   "metadata": {},
   "outputs": [],
   "source": [
    "name = \"Kajal Rituraj\""
   ]
  },
  {
   "cell_type": "code",
   "execution_count": 35,
   "id": "42279bda",
   "metadata": {},
   "outputs": [
    {
     "data": {
      "text/plain": [
       "['__add__',\n",
       " '__class__',\n",
       " '__contains__',\n",
       " '__delattr__',\n",
       " '__dir__',\n",
       " '__doc__',\n",
       " '__eq__',\n",
       " '__format__',\n",
       " '__ge__',\n",
       " '__getattribute__',\n",
       " '__getitem__',\n",
       " '__getnewargs__',\n",
       " '__gt__',\n",
       " '__hash__',\n",
       " '__init__',\n",
       " '__init_subclass__',\n",
       " '__iter__',\n",
       " '__le__',\n",
       " '__len__',\n",
       " '__lt__',\n",
       " '__mod__',\n",
       " '__mul__',\n",
       " '__ne__',\n",
       " '__new__',\n",
       " '__reduce__',\n",
       " '__reduce_ex__',\n",
       " '__repr__',\n",
       " '__rmod__',\n",
       " '__rmul__',\n",
       " '__setattr__',\n",
       " '__sizeof__',\n",
       " '__str__',\n",
       " '__subclasshook__',\n",
       " 'capitalize',\n",
       " 'casefold',\n",
       " 'center',\n",
       " 'count',\n",
       " 'encode',\n",
       " 'endswith',\n",
       " 'expandtabs',\n",
       " 'find',\n",
       " 'format',\n",
       " 'format_map',\n",
       " 'index',\n",
       " 'isalnum',\n",
       " 'isalpha',\n",
       " 'isascii',\n",
       " 'isdecimal',\n",
       " 'isdigit',\n",
       " 'isidentifier',\n",
       " 'islower',\n",
       " 'isnumeric',\n",
       " 'isprintable',\n",
       " 'isspace',\n",
       " 'istitle',\n",
       " 'isupper',\n",
       " 'join',\n",
       " 'ljust',\n",
       " 'lower',\n",
       " 'lstrip',\n",
       " 'maketrans',\n",
       " 'partition',\n",
       " 'removeprefix',\n",
       " 'removesuffix',\n",
       " 'replace',\n",
       " 'rfind',\n",
       " 'rindex',\n",
       " 'rjust',\n",
       " 'rpartition',\n",
       " 'rsplit',\n",
       " 'rstrip',\n",
       " 'split',\n",
       " 'splitlines',\n",
       " 'startswith',\n",
       " 'strip',\n",
       " 'swapcase',\n",
       " 'title',\n",
       " 'translate',\n",
       " 'upper',\n",
       " 'zfill']"
      ]
     },
     "execution_count": 35,
     "metadata": {},
     "output_type": "execute_result"
    }
   ],
   "source": [
    "dir(name)"
   ]
  },
  {
   "cell_type": "code",
   "execution_count": 4,
   "id": "6c3c2e82",
   "metadata": {},
   "outputs": [
    {
     "data": {
      "text/plain": [
       "'kajal rituraj'"
      ]
     },
     "execution_count": 4,
     "metadata": {},
     "output_type": "execute_result"
    }
   ],
   "source": [
    "# To make the string in LowerCase\n",
    "\n",
    "name.casefold()"
   ]
  },
  {
   "cell_type": "code",
   "execution_count": 5,
   "id": "0a137046",
   "metadata": {},
   "outputs": [
    {
     "name": "stdout",
     "output_type": "stream",
     "text": [
      "b'Kajal Rituraj'\n"
     ]
    }
   ],
   "source": [
    "#Returns an encoded version of the string\n",
    "stre=name.encode()\n",
    "print(stre)"
   ]
  },
  {
   "cell_type": "code",
   "execution_count": 9,
   "id": "eff63494",
   "metadata": {},
   "outputs": [
    {
     "data": {
      "text/plain": [
       "True"
      ]
     },
     "execution_count": 9,
     "metadata": {},
     "output_type": "execute_result"
    }
   ],
   "source": [
    "# Checks if string endswith/startswith the specified character.\n",
    "name.endswith(\"v\")\n",
    "name.startswith(\"K\")"
   ]
  },
  {
   "cell_type": "code",
   "execution_count": 12,
   "id": "3db24e52",
   "metadata": {},
   "outputs": [
    {
     "name": "stdout",
     "output_type": "stream",
     "text": [
      "hello  its    me     syd\n"
     ]
    }
   ],
   "source": [
    "# All tabs are replaced with whitespaces\n",
    "n = \"hello\\tits\\tme\\tsyd\"\n",
    "print(n.expandtabs(7))"
   ]
  },
  {
   "cell_type": "code",
   "execution_count": 13,
   "id": "a34993a4",
   "metadata": {},
   "outputs": [
    {
     "data": {
      "text/plain": [
       "4"
      ]
     },
     "execution_count": 13,
     "metadata": {},
     "output_type": "execute_result"
    }
   ],
   "source": [
    "#Checks the position of specific letter\n",
    "name.find(\"l\")"
   ]
  },
  {
   "cell_type": "code",
   "execution_count": 16,
   "id": "d4c93fd9",
   "metadata": {},
   "outputs": [
    {
     "data": {
      "text/plain": [
       "'Kajal rituraj'"
      ]
     },
     "execution_count": 16,
     "metadata": {},
     "output_type": "execute_result"
    }
   ],
   "source": [
    "\"\"\"\n",
    "To make the 1st char of the string in Upper case\n",
    "\"\"\"\n",
    "name.capitalize()\n"
   ]
  },
  {
   "cell_type": "code",
   "execution_count": 15,
   "id": "3922f3ea",
   "metadata": {},
   "outputs": [
    {
     "data": {
      "text/plain": [
       "False"
      ]
     },
     "execution_count": 15,
     "metadata": {},
     "output_type": "execute_result"
    }
   ],
   "source": [
    "name.isalpha()"
   ]
  },
  {
   "cell_type": "code",
   "execution_count": 19,
   "id": "51432f01",
   "metadata": {},
   "outputs": [
    {
     "name": "stdout",
     "output_type": "stream",
     "text": [
      "there are 13 student in each row.\n"
     ]
    }
   ],
   "source": [
    "student= 13\n",
    "row = \"There are {} student in each row.\"\n",
    "print(row.format(student))"
   ]
  },
  {
   "cell_type": "code",
   "execution_count": 20,
   "id": "de970503",
   "metadata": {},
   "outputs": [
    {
     "name": "stdout",
     "output_type": "stream",
     "text": [
      "False\n",
      "True\n"
     ]
    }
   ],
   "source": [
    "print(name.isdigit())\n",
    "print(\"867\".isdigit())"
   ]
  },
  {
   "cell_type": "code",
   "execution_count": 21,
   "id": "20f27ff9",
   "metadata": {},
   "outputs": [
    {
     "name": "stdout",
     "output_type": "stream",
     "text": [
      "False\n",
      "True\n"
     ]
    }
   ],
   "source": [
    "print(name.islower())\n",
    "print(\"hello\".islower())"
   ]
  },
  {
   "cell_type": "code",
   "execution_count": null,
   "id": "5355a312",
   "metadata": {},
   "outputs": [],
   "source": []
  },
  {
   "cell_type": "markdown",
   "id": "8055df42",
   "metadata": {},
   "source": [
    "**Q: Create a list \"todo_list\" and add some todo items in the list**\n",
    "</br>\n",
    "**Check what is the type of the variable and what are the public method available on that variable**\n",
    "</br>\n",
    "**Practice all the methods and write a brief summary on each of them in your words**"
   ]
  },
  {
   "cell_type": "code",
   "execution_count": 23,
   "id": "a23d9047",
   "metadata": {},
   "outputs": [
    {
     "name": "stdout",
     "output_type": "stream",
     "text": [
      "['Complete the Exercise', \"Make MCQ's\", 'Complete the every Module', 'Complete the Test', 'Revise The task']\n"
     ]
    }
   ],
   "source": [
    "Todo_List=[\"Complete the Exercise\",\n",
    "            \"Make MCQ's\",\n",
    "           \"Complete the every Module\",\n",
    "           \"Complete the Test\",\n",
    "           \"Revise The task\"]\n",
    "print(Todo_List)"
   ]
  },
  {
   "cell_type": "code",
   "execution_count": 24,
   "id": "0502a0a7",
   "metadata": {},
   "outputs": [
    {
     "name": "stdout",
     "output_type": "stream",
     "text": [
      "Complete the Test\n"
     ]
    }
   ],
   "source": [
    "#Accessing the list item by indexing\n",
    "print(Todo_List[3])"
   ]
  },
  {
   "cell_type": "code",
   "execution_count": 25,
   "id": "2835486d",
   "metadata": {},
   "outputs": [
    {
     "name": "stdout",
     "output_type": "stream",
     "text": [
      "['Complete the Exercise', 'complete python assignment', 'Complete the every Module', 'Complete the Test', 'Revise The task']\n"
     ]
    }
   ],
   "source": [
    "#Change the value of a list item\n",
    "Todo_List[1]=\"complete python assignment\"\n",
    "print(Todo_List)"
   ]
  },
  {
   "cell_type": "code",
   "execution_count": 27,
   "id": "32159c70",
   "metadata": {},
   "outputs": [
    {
     "name": "stdout",
     "output_type": "stream",
     "text": [
      "['Complete the Exercise', 'complete python assignment', 'Complete the every Module', 'Complete the Test', 'Revise The task', 'Complete Test of my sql', 'Complete Test of my sql']\n"
     ]
    }
   ],
   "source": [
    "#to add the item in list Append function is used\n",
    "Todo_List.append(\"Complete Test of my sql\")\n",
    "print(Todo_List)"
   ]
  },
  {
   "cell_type": "code",
   "execution_count": 30,
   "id": "3cb9d430",
   "metadata": {},
   "outputs": [
    {
     "name": "stdout",
     "output_type": "stream",
     "text": [
      "['Complete Test of my sql', 'Complete Test of my sql', 'Get the certificate', 'Complete the Exercise', 'Complete the Test', 'Complete the every Module', 'Revise The task', 'complete python assignment']\n"
     ]
    }
   ],
   "source": [
    "#To insert the item in specific place \n",
    "Todo_List.insert(2,\"Get the certificate\")\n",
    "print(Todo_List)\n"
   ]
  },
  {
   "cell_type": "code",
   "execution_count": 28,
   "id": "e1a1b569",
   "metadata": {},
   "outputs": [
    {
     "name": "stdout",
     "output_type": "stream",
     "text": [
      "['Complete the Exercise', 'complete python assignment', 'Complete the every Module', 'Complete the Test', 'Revise The task', 'Complete Test of my sql', 'Complete Test of my sql']\n",
      "['Complete the Exercise', 'complete python assignment', 'Complete the every Module', 'Complete the Test', 'Revise The task', 'Complete Test of my sql', 'Complete Test of my sql']\n",
      "['Complete the Exercise', 'complete python assignment', 'Complete the every Module', 'Complete the Test', 'Revise The task', 'Complete Test of my sql', 'Complete Test of my sql']\n",
      "['Complete the Exercise', 'complete python assignment', 'Complete the every Module', 'Complete the Test', 'Revise The task', 'Complete Test of my sql', 'Complete Test of my sql']\n",
      "['Complete the Exercise', 'complete python assignment', 'Complete the every Module', 'Complete the Test', 'Revise The task', 'Complete Test of my sql', 'Complete Test of my sql']\n",
      "['Complete the Exercise', 'complete python assignment', 'Complete the every Module', 'Complete the Test', 'Revise The task', 'Complete Test of my sql', 'Complete Test of my sql']\n",
      "['Complete the Exercise', 'complete python assignment', 'Complete the every Module', 'Complete the Test', 'Revise The task', 'Complete Test of my sql', 'Complete Test of my sql']\n"
     ]
    }
   ],
   "source": [
    "for x in Todo_List:\n",
    "    print(Todo_List)"
   ]
  },
  {
   "cell_type": "code",
   "execution_count": 31,
   "id": "d2f365c4",
   "metadata": {},
   "outputs": [
    {
     "name": "stdout",
     "output_type": "stream",
     "text": [
      "['Complete Test of my sql', 'Complete Test of my sql', 'Get the certificate', 'Complete the Exercise', 'Complete the Test', 'Complete the every Module', 'complete python assignment']\n"
     ]
    }
   ],
   "source": [
    "#to remove \n",
    "Todo_List.remove(\"Revise The task\")\n",
    "print(Todo_List)\n"
   ]
  },
  {
   "cell_type": "code",
   "execution_count": 29,
   "id": "979c5729",
   "metadata": {},
   "outputs": [
    {
     "name": "stdout",
     "output_type": "stream",
     "text": [
      "['Complete Test of my sql', 'Complete Test of my sql', 'Complete the Exercise', 'Complete the Test', 'Complete the every Module', 'Revise The task', 'complete python assignment']\n"
     ]
    }
   ],
   "source": [
    "# The Sort() function use to sort the list alphabetically\n",
    "Todo_List.sort()\n",
    "print(Todo_List)"
   ]
  },
  {
   "cell_type": "code",
   "execution_count": 32,
   "id": "32c36354",
   "metadata": {},
   "outputs": [
    {
     "name": "stdout",
     "output_type": "stream",
     "text": [
      "['Complete Test of my sql', 'Complete Test of my sql', 'Get the certificate', 'Complete the Exercise', 'Complete the every Module', 'complete python assignment']\n"
     ]
    }
   ],
   "source": [
    "Todo_List.pop(4)\n",
    "print(Todo_List)"
   ]
  },
  {
   "cell_type": "markdown",
   "id": "67fd8a5e",
   "metadata": {},
   "source": [
    "**Q: Create a dictionary \"user\" and add name, city key value pair in the dictionary**\n",
    "</br>\n",
    "**Check what is the type of the variable  user and what are the public method available on that variable**\n",
    "</br>\n",
    "**Practice all the methods and write a brief summary on each of them in your words**"
   ]
  },
  {
   "cell_type": "code",
   "execution_count": 56,
   "id": "5f9b02e8",
   "metadata": {},
   "outputs": [
    {
     "name": "stdout",
     "output_type": "stream",
     "text": [
      "{'name': 'kajal', 'City': 'koderma', 'meet': 'dhanbad', 'dob': '6/09/3099', 'age': 89, 'ishuman': False}\n"
     ]
    }
   ],
   "source": [
    "dict_1={\n",
    "    \"name\":\"kajal\",\n",
    "    \"City\":\"koderma\",\n",
    "    \"meet\":\"dhanbad\",\n",
    "    \"dob\":\"6/09/3099\",\n",
    "    \"age\":89,\n",
    "    \"ishuman\":False,\n",
    "}\n",
    "print(dict_1)"
   ]
  },
  {
   "cell_type": "code",
   "execution_count": 55,
   "id": "1b781f62",
   "metadata": {},
   "outputs": [
    {
     "name": "stdout",
     "output_type": "stream",
     "text": [
      "{'name': 'kajal', 'City': 'koderma', 'meet': 'dhanbad', 'dob': '6/09/3099', 'age': 89, 'ishuman': False}\n"
     ]
    }
   ],
   "source": [
    "#Returns a copy of the dictionary\n",
    "dict_1.copy()\n",
    "print(dict_1)"
   ]
  },
  {
   "cell_type": "code",
   "execution_count": 58,
   "id": "8c06b796",
   "metadata": {},
   "outputs": [
    {
     "name": "stdout",
     "output_type": "stream",
     "text": [
      "6/09/3099\n"
     ]
    }
   ],
   "source": [
    "#  Access the items of a dictionary by referring to its key name, inside square brackets\n",
    "n=dict_1[\"dob\"]\n",
    "print(n)"
   ]
  },
  {
   "cell_type": "code",
   "execution_count": 59,
   "id": "1a7aceb5",
   "metadata": {},
   "outputs": [
    {
     "name": "stdout",
     "output_type": "stream",
     "text": [
      "{'name': 'kajal', 'City': 'koderma', 'dob': '6/09/3099', 'age': 89, 'ishuman': False}\n"
     ]
    }
   ],
   "source": [
    "#\n",
    "dict_1.pop(\"meet\")\n",
    "print(dict_1)"
   ]
  },
  {
   "cell_type": "code",
   "execution_count": 60,
   "id": "64fbfcd6",
   "metadata": {},
   "outputs": [
    {
     "name": "stdout",
     "output_type": "stream",
     "text": [
      "name\n",
      "City\n",
      "dob\n",
      "age\n",
      "ishuman\n"
     ]
    }
   ],
   "source": [
    "#Print all key names in the dictionary, one by one:\n",
    "for x in dict_1:\n",
    "    print(x)"
   ]
  },
  {
   "cell_type": "code",
   "execution_count": 62,
   "id": "7b68f7ae",
   "metadata": {},
   "outputs": [
    {
     "name": "stdout",
     "output_type": "stream",
     "text": [
      "{'Emp1': {'name': 'kajal', 'dob': 2007}, 'Emp2': {'name': 'Reet', 'dob': 2011}}\n"
     ]
    }
   ],
   "source": [
    "#NESTED DICTIONARY\n",
    "EmployeeDetail = {\n",
    "  \"Emp1\" : {\n",
    "    \"name\" : \"kajal\",\n",
    "    \"dob\" : 2007\n",
    "  },\n",
    "  \"Emp2\" : {\n",
    "    \"name\" : \"Reet\",\n",
    "    \"dob\" : 2011\n",
    "  }\n",
    "}\n",
    "print(EmployeeDetail)"
   ]
  },
  {
   "cell_type": "code",
   "execution_count": 40,
   "id": "d6d807e2",
   "metadata": {},
   "outputs": [
    {
     "name": "stdout",
     "output_type": "stream",
     "text": [
      "{}\n"
     ]
    }
   ],
   "source": [
    "#Removes all the elements from the dictionary\n",
    "dict_1.clear()\n",
    "print(dict_1)"
   ]
  },
  {
   "cell_type": "code",
   "execution_count": 50,
   "id": "0aacbdac",
   "metadata": {},
   "outputs": [
    {
     "name": "stdout",
     "output_type": "stream",
     "text": [
      "{'key1': [2], 'key2': [2], 'key3': [2]}\n"
     ]
    }
   ],
   "source": [
    "# creates a new dictionary using the provided key and value the dictionary\n",
    "key = ('key1', 'key2', 'key3')\n",
    "value = [2]\n",
    "dict_1 = dict.fromkeys(key, value)\n",
    "print(dict_1)\n"
   ]
  }
 ],
 "metadata": {
  "kernelspec": {
   "display_name": "Python 3 (ipykernel)",
   "language": "python",
   "name": "python3"
  },
  "language_info": {
   "codemirror_mode": {
    "name": "ipython",
    "version": 3
   },
   "file_extension": ".py",
   "mimetype": "text/x-python",
   "name": "python",
   "nbconvert_exporter": "python",
   "pygments_lexer": "ipython3",
   "version": "3.9.12"
  }
 },
 "nbformat": 4,
 "nbformat_minor": 5
}
